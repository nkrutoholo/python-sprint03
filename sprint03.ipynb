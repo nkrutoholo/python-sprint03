{
  "nbformat": 4,
  "nbformat_minor": 0,
  "metadata": {
    "colab": {
      "name": "sprint03.ipynb",
      "provenance": [],
      "collapsed_sections": [],
      "authorship_tag": "ABX9TyOIpK4PoZFOJ8td6/Gq84co",
      "include_colab_link": true
    },
    "kernelspec": {
      "name": "python3",
      "display_name": "Python 3"
    },
    "language_info": {
      "name": "python"
    }
  },
  "cells": [
    {
      "cell_type": "markdown",
      "metadata": {
        "id": "view-in-github",
        "colab_type": "text"
      },
      "source": [
        "<a href=\"https://colab.research.google.com/github/nkrutoholo/python-sprint03/blob/master/sprint03.ipynb\" target=\"_parent\"><img src=\"https://colab.research.google.com/assets/colab-badge.svg\" alt=\"Open In Colab\"/></a>"
      ]
    },
    {
      "cell_type": "markdown",
      "metadata": {
        "id": "c28TQsHXQ2rB"
      },
      "source": [
        "## **t00_lambda/expression.py**"
      ]
    },
    {
      "cell_type": "code",
      "metadata": {
        "colab": {
          "base_uri": "https://localhost:8080/"
        },
        "id": "Fn-7ZCtnQtCZ",
        "outputId": "7ecb2ded-70a3-474c-ab29-bb8cac04cb5d"
      },
      "source": [
        "n = int(input('n: '))\n",
        "a = int(input('a: '))\n",
        "b = int(input('b: '))\n",
        "\n",
        "result = (lambda n, a, b: True if n % a == 0 and n % b == 0 else False)(n, a, b)\n",
        "print(result)"
      ],
      "execution_count": null,
      "outputs": [
        {
          "output_type": "stream",
          "text": [
            "n: 15\n",
            "a: 3\n",
            "b: 5\n",
            "True\n"
          ],
          "name": "stdout"
        }
      ]
    },
    {
      "cell_type": "markdown",
      "metadata": {
        "id": "eD_nBTW1UDNT"
      },
      "source": [
        "## **t01_clear_words/clear_words.py**"
      ]
    },
    {
      "cell_type": "code",
      "metadata": {
        "id": "YUsekv5OTlmX",
        "colab": {
          "base_uri": "https://localhost:8080/"
        },
        "outputId": "0c9d262a-2c7e-4b26-e0cf-5478a641df37"
      },
      "source": [
        "import re\n",
        "\n",
        "def clear_words(text):\n",
        "    return re.findall('[^\\s\\?\\.!:;,-]+', text)\n",
        "\n",
        "clear_words('WOMAN: Yes?, ENCYCLOPEDIA SALESMAN: Burglar, madam. WOMAN: Are you an encyclopedia salesman?')"
      ],
      "execution_count": null,
      "outputs": [
        {
          "output_type": "execute_result",
          "data": {
            "text/plain": [
              "['WOMAN',\n",
              " 'Yes',\n",
              " 'ENCYCLOPEDIA',\n",
              " 'SALESMAN',\n",
              " 'Burglar',\n",
              " 'madam',\n",
              " 'WOMAN',\n",
              " 'Are',\n",
              " 'you',\n",
              " 'an',\n",
              " 'encyclopedia',\n",
              " 'salesman']"
            ]
          },
          "metadata": {
            "tags": []
          },
          "execution_count": 15
        }
      ]
    },
    {
      "cell_type": "markdown",
      "metadata": {
        "id": "DhzZEmV9vyEI"
      },
      "source": [
        "## **t02_the_extractor/extractor.py**"
      ]
    },
    {
      "cell_type": "code",
      "metadata": {
        "id": "hXD83_dpX-Oq",
        "colab": {
          "base_uri": "https://localhost:8080/"
        },
        "outputId": "6da88ce4-7e77-41ba-b67b-e8e3d21f35ae"
      },
      "source": [
        "def extractor(extractable, value_type=str):\n",
        "    return dict(filter(lambda x : isinstance(x[1], value_type), extractable.items()))\n",
        "\n",
        "brian = {'name': 'Brian',\n",
        "         'email': 'very_naughty_boy@gmail.com',\n",
        "         'age': 33,\n",
        "         'star_sign': 'Capricorn',\n",
        "         'legs': 2,\n",
        "         'arms': 2.5\n",
        "         }\n",
        "print(f'***\\nbrian, str:{extractor(brian, str)}')\n",
        "print(f'***\\nbrian, int:{extractor(brian, int)}')\n",
        "print(f'***\\nbrian, list:{extractor(brian, list)}')\n",
        "monty_python= {'title': 'Monty Python','media': ['film', 'tv', 'radio', 'audio', 'literature'],'country of origin': 'United Kingdom','first aired': 1969,'genres': ['satire', 'surreal', 'black comedy'],'key members': {'Graham Chapman','John Cleese','Terry Gilliam','Eric Idle','Terry Jones','Michael Palin'},'official website': 'montypython.com','nb of films': 5,'nb of tv series': 3,'average sketch length': 30.5,'songs': {'The Meaning Of Life':['Accountancy Shanty', 'Galaxy Song'],'Monty Python And The Holy Grail':['The Tale Of Sir Robin', 'Camelot Song'],'Life Of Brian':['Brian Song', 'Always Look On The Bright Side Of Life'],'Monty Python’s Flying Circus':['The Liberty Bell', 'Lumberjack Song', 'Spam Song']},'name has meaning': False,}\n",
        "print(f'***\\nmonty_python, list:\\n{extractor(monty_python, list)}')\n",
        "print(f'***\\nmonty_python, float:\\n{extractor(monty_python, float)}')\n",
        "print(f'***\\nmonty_python, dict:\\n{extractor(monty_python, dict)}')\n",
        "print(f'***\\nmonty_python, no data type given:\\n{extractor(monty_python)}')\n",
        "print(f'***\\nempty, int:\\n{extractor({},dict)}')\n"
      ],
      "execution_count": null,
      "outputs": [
        {
          "output_type": "stream",
          "text": [
            "***\n",
            "brian, str:{'name': 'Brian', 'email': 'very_naughty_boy@gmail.com', 'star_sign': 'Capricorn'}\n",
            "***\n",
            "brian, int:{'age': 33, 'legs': 2}\n",
            "***\n",
            "brian, list:{}\n",
            "***\n",
            "monty_python, list:\n",
            "{'media': ['film', 'tv', 'radio', 'audio', 'literature'], 'genres': ['satire', 'surreal', 'black comedy']}\n",
            "***\n",
            "monty_python, float:\n",
            "{'average sketch length': 30.5}\n",
            "***\n",
            "monty_python, dict:\n",
            "{'songs': {'The Meaning Of Life': ['Accountancy Shanty', 'Galaxy Song'], 'Monty Python And The Holy Grail': ['The Tale Of Sir Robin', 'Camelot Song'], 'Life Of Brian': ['Brian Song', 'Always Look On The Bright Side Of Life'], 'Monty Python’s Flying Circus': ['The Liberty Bell', 'Lumberjack Song', 'Spam Song']}}\n",
            "***\n",
            "monty_python, no data type given:\n",
            "{'title': 'Monty Python', 'country of origin': 'United Kingdom', 'official website': 'montypython.com'}\n",
            "***\n",
            "empty, int:\n",
            "{}\n"
          ],
          "name": "stdout"
        }
      ]
    },
    {
      "cell_type": "markdown",
      "metadata": {
        "id": "Hy96OGKKZYW8"
      },
      "source": [
        "## **t03_read_file/read_file.py**"
      ]
    },
    {
      "cell_type": "code",
      "metadata": {
        "id": "-2NJYjMM0sIh"
      },
      "source": [
        "def read_file(filename):\n",
        "\ttry:\n",
        "\t\twith open(filename, \"r\") as f:\n",
        "\t\t\tcontext = f.read()\n",
        "\t\t\tprint(f'File \"{filename}\" has the following message:',\n",
        "\t\t\t\t  f'{context}', sep='\\n')\n",
        "\texcept (PermissionError, FileNotFoundError):\n",
        "\t\tprint(f'Failed to read file \"{filename}\".')\n"
      ],
      "execution_count": null,
      "outputs": []
    },
    {
      "cell_type": "markdown",
      "metadata": {
        "id": "EFhdrhTEjPjV"
      },
      "source": [
        "## **t04_write/write_file.py**"
      ]
    },
    {
      "cell_type": "code",
      "metadata": {
        "id": "raCufnoUjIph"
      },
      "source": [
        "def check_file(filename, message):\n",
        "    with open(filename, \"r\") as f:\n",
        "            context = f.read()\n",
        "            if context != '' and context == message:\n",
        "                print(f'Your message has been written to file \"{filename}\".',\n",
        "                      f'File \"{filename}\" now contains the following text:',\n",
        "                      f'{message}', sep='\\n')\n",
        "            else:\n",
        "                print('Something went wrong...')\n",
        "\n",
        "def write_file(filename, message='None'):\n",
        "    if filename.endswith('.txt') == False:\n",
        "        print(f'Please enter the filename in the format \"filename.txt\".',\n",
        "              f'Failed to write to file \"{filename}\".', sep='\\n')\n",
        "    else:\n",
        "        with open(filename, \"w\") as f:\n",
        "            f.write(message)\n",
        "        check_file(filename, message)\n",
        "\n"
      ],
      "execution_count": null,
      "outputs": []
    },
    {
      "cell_type": "markdown",
      "metadata": {
        "id": "79GfBvVT9JSr"
      },
      "source": [
        "## **t05_load_json/summary.py**"
      ]
    },
    {
      "cell_type": "code",
      "metadata": {
        "id": "TzdGKsFRgzHS"
      },
      "source": [
        "import pandas as pd\n",
        "import json\n",
        "\n",
        "def summary(filename, summarize_by):\n",
        "    try:\n",
        "        df = pd.read_json(filename)\n",
        "        df1 = df.where(pd.notnull(df), None)\n",
        "        if summarize_by in df1:\n",
        "            # df1[summarize_by] = df1[summarize_by].aply(clean_unhash)\n",
        "            return df1[summarize_by].aply(str)value_counts(dropna=False).to_dict()\n",
        "        else:\n",
        "            return {None: df1['id'].count()}\n",
        "    except:\n",
        "        return 'Error in decoding JSON.'\n",
        "\n",
        "if __name__ == '__main__':\n",
        "    print(summary('/s03t05_load_json_test.json', 'visibility'))\n",
        "    print(summary('/s03t05_load_json_test.json', 'purpose'))\n",
        "    print(summary('/s03t05_load_json_test.json', 'no items with this key'))\n",
        "    print(summary('/s03t05_load_json_invalid.json', 'purpose'))\n"
      ],
      "execution_count": null,
      "outputs": []
    },
    {
      "cell_type": "code",
      "metadata": {
        "colab": {
          "base_uri": "https://localhost:8080/"
        },
        "id": "aWLtTkkFRe4g",
        "outputId": "7f046384-1636-4d2c-8c1b-d49167c7b8be"
      },
      "source": [
        "import json\n",
        "import collections\n",
        "\n",
        "def count_data(data, summarize_by):\n",
        "    counter = collections.Counter()\n",
        "    for iterator in data:\n",
        "        try:\n",
        "            counter.update({iterator[summarize_by]})\n",
        "        except KeyError:\n",
        "            counter.update({None})\n",
        "        except TypeError:\n",
        "            counter.update({'unhashable'})\n",
        "    result = dict(sorted(counter.items(), \\\n",
        "                         key=lambda x: x[1], reverse=True))\n",
        "    return result\n",
        "\n",
        "def summary(filename, summarize_by):\n",
        "    try:\n",
        "        with open(filename, 'r') as json_f:\n",
        "            data = json.load(json_f)\n",
        "    except:\n",
        "         return f'Error in decoding JSON.'\n",
        "    else:\n",
        "        return count_data(data, summarize_by)\n",
        "\n",
        "if __name__ == '__main__':\n",
        "    print(summary('/s03t05_load_json_test.json', 'visibility'))\n",
        "    print(summary('/s03t05_load_json_test.json', 'purpose'))\n",
        "    print(summary('/s03t05_load_json_test.json', 'no items with this key'))\n",
        "    print(summary('/s03t05_load_json_invalid.json', 'purpose'))\n"
      ],
      "execution_count": null,
      "outputs": [
        {
          "output_type": "stream",
          "text": [
            "{'public': 263, 'private': 237}\n",
            "{'Promotion': 102, 'Entertainment': 82, None: 75, 'Connection': 62, 'Inspiration': 59, 'Conversation': 56, 'Education': 56, '': 5, 'unhashable': 2, False: 1}\n",
            "{None: 500}\n",
            "Error in decoding JSON.\n"
          ],
          "name": "stdout"
        }
      ]
    },
    {
      "cell_type": "markdown",
      "metadata": {
        "id": "p3YLWmRegie_"
      },
      "source": [
        "## **t06_dump_json/quad.py**"
      ]
    },
    {
      "cell_type": "code",
      "metadata": {
        "id": "x0HYYWuCjcii",
        "colab": {
          "base_uri": "https://localhost:8080/"
        },
        "outputId": "e123fe1f-dae9-49eb-de28-fc9a95e3896b"
      },
      "source": [
        "import math\n",
        "import json\n",
        "from random import seed, randint\n",
        "\n",
        "def valid(a, b, c):\n",
        "    l = [a, b, c]\n",
        "    return True if all(isinstance(ele, (int, float)) for ele in l) else False\n",
        "\n",
        "def a_parse(a, s =''):\n",
        "    if a == 1:\n",
        "        s += 'x^2'\n",
        "    elif a == -1:\n",
        "        s += '-x^2'\n",
        "    else:\n",
        "        s = f'{a}x^2'\n",
        "    return s\n",
        "\n",
        "def b_parse(b, s=''):\n",
        "    if b == 0:\n",
        "        s += ''\n",
        "    elif b == 1:\n",
        "        s += '+x'\n",
        "    elif b == -1:\n",
        "        s += '-x'\n",
        "    elif b < 0:\n",
        "        s += f'{b}x'\n",
        "    else:\n",
        "        s += f'+{b}x'\n",
        "    return s\n",
        "\n",
        "def c_parse(c, s=''):\n",
        "    if c == 0:\n",
        "        s += ''\n",
        "    elif c < 0:\n",
        "        s += f'{c}'\n",
        "    else:\n",
        "        s += f'+{c}'\n",
        "    return s\n",
        "\n",
        "def parser(a, b, c) -> str:\n",
        "    return a_parse(a) + b_parse(b) + c_parse(c) + '=0'\n",
        "\n",
        "def find_solution(a, b, c, d):\n",
        "    if d < 0:\n",
        "        return None\n",
        "    elif d == 0:\n",
        "        return round(((-b + math.sqrt(d)) / 2 * a), 3)\n",
        "    else:\n",
        "        x1 = (-b + math.sqrt(d)) / (2 * a)\n",
        "        x2 = (-b - math.sqrt(d)) / (2 * a)\n",
        "        return sorted([round(x1, 3), round(x2, 3)])\n",
        "\n",
        "def make_res(eq, d, x):\n",
        "    if x != 0:\n",
        "        return json.dumps({'equation': eq, \\\n",
        "                              'solution': {\\\n",
        "                                           'discriminant': d, \\\n",
        "                                           'x': x}}, \\\n",
        "                             ensure_ascii=False, indent=3)\n",
        "    else:\n",
        "        return json.dumps({'equation': eq, \\\n",
        "                              'solution': {\\\n",
        "                                           'discriminant': d, \\\n",
        "                                           'x': abs(x)}},\\\n",
        "                              ensure_ascii=False, indent=3)\n",
        "\n",
        "def quad(a, b, c):\n",
        "    if not valid(a, b, c) or a == 0:\n",
        "        return 'Cannot generate a quadratic equation.'\n",
        "    else:\n",
        "        eq = parser(a, b, c)\n",
        "        d = round(float(b ** 2 - 4 * a * c), 3)\n",
        "        x = find_solution(a, b, c, d)\n",
        "        return make_res(eq, d, x)\n",
        "\n",
        "def run_test(a, b, c):\n",
        "    print(f'---\\n{a}, {b}, {c}')\n",
        "    print(quad(a, b, c))\n",
        "\n",
        "if __name__== '__main__':\n",
        "    run_test(1, 0, 0)\n",
        "    run_test(-7.5, 0, 0)\n",
        "    run_test(120, -1, 0)\n",
        "    run_test(15, 1.8, 1)\n",
        "    run_test(1, 4, 4)\n",
        "    run_test(1, 5, 6)\n",
        "    run_test('a', 5, 6)\n",
        "    run_test(0, 1, 2)\n",
        "    seed(5)\n",
        "    for _ in range(3):\n",
        "        run_test(randint(-20, 20), randint(-20, 20), randint(-20, 20))\n"
      ],
      "execution_count": null,
      "outputs": [
        {
          "output_type": "stream",
          "text": [
            "---\n",
            "1, 0, 0\n",
            "{\n",
            "  \"equation\": \"x^2=0\",\n",
            "  \"solution\": {\n",
            "    \"discriminant\": 0.0,\n",
            "    \"x\": 0.0\n",
            "  }\n",
            "}\n",
            "---\n",
            "-7.5, 0, 0\n",
            "{\n",
            "  \"equation\": \"-7.5x^2=0\",\n",
            "  \"solution\": {\n",
            "    \"discriminant\": 0.0,\n",
            "    \"x\": 0.0\n",
            "  }\n",
            "}\n",
            "---\n",
            "120, -1, 0\n",
            "{\n",
            "  \"equation\": \"120x^2-x=0\",\n",
            "  \"solution\": {\n",
            "    \"discriminant\": 1.0,\n",
            "    \"x\": [\n",
            "      0.0,\n",
            "      0.008\n",
            "    ]\n",
            "  }\n",
            "}\n",
            "---\n",
            "15, 1.8, 1\n",
            "{\n",
            "  \"equation\": \"15x^2+1.8x+1=0\",\n",
            "  \"solution\": {\n",
            "    \"discriminant\": -56.76,\n",
            "    \"x\": null\n",
            "  }\n",
            "}\n",
            "---\n",
            "1, 4, 4\n",
            "{\n",
            "  \"equation\": \"x^2+4x+4=0\",\n",
            "  \"solution\": {\n",
            "    \"discriminant\": 0.0,\n",
            "    \"x\": -2.0\n",
            "  }\n",
            "}\n",
            "---\n",
            "1, 5, 6\n",
            "{\n",
            "  \"equation\": \"x^2+5x+6=0\",\n",
            "  \"solution\": {\n",
            "    \"discriminant\": 1.0,\n",
            "    \"x\": [\n",
            "      -3.0,\n",
            "      -2.0\n",
            "    ]\n",
            "  }\n",
            "}\n",
            "---\n",
            "a, 5, 6\n",
            "Cannot generate a quadratic equation.\n",
            "---\n",
            "0, 1, 2\n",
            "Cannot generate a quadratic equation.\n",
            "---\n",
            "19, -4, 2\n",
            "{\n",
            "  \"equation\": \"19x^2-4x+2=0\",\n",
            "  \"solution\": {\n",
            "    \"discriminant\": -136.0,\n",
            "    \"x\": null\n",
            "  }\n",
            "}\n",
            "---\n",
            "13, -19, 9\n",
            "{\n",
            "  \"equation\": \"13x^2-19x+9=0\",\n",
            "  \"solution\": {\n",
            "    \"discriminant\": -107.0,\n",
            "    \"x\": null\n",
            "  }\n",
            "}\n",
            "---\n",
            "-5, -17, -10\n",
            "{\n",
            "  \"equation\": \"-5x^2-17x-10=0\",\n",
            "  \"solution\": {\n",
            "    \"discriminant\": 89.0,\n",
            "    \"x\": [\n",
            "      -2.643,\n",
            "      -0.757\n",
            "    ]\n",
            "  }\n",
            "}\n"
          ],
          "name": "stdout"
        }
      ]
    },
    {
      "cell_type": "markdown",
      "metadata": {
        "id": "4Sw0yuJKwyjU"
      },
      "source": [
        "## **t07_calculambdor/calculator.py**"
      ]
    },
    {
      "cell_type": "code",
      "metadata": {
        "id": "SMzI0EI7r5aW",
        "colab": {
          "base_uri": "https://localhost:8080/"
        },
        "outputId": "a926c8c7-375d-437a-dc53-56a5c89d39c3"
      },
      "source": [
        "operations = {\n",
        "    'add': lambda a, b: a + b,\n",
        "    'sub': lambda a, b: a - b,\n",
        "    'mul': lambda a, b: a * b,\n",
        "    'div': lambda a, b: a / b,\n",
        "    'pow': lambda a, b: a ** b\n",
        "}\n",
        "\n",
        "def calculator(arg, a, b):\n",
        "    err1 = 'Invalid numbers. Second and third arguments must be numerical.'\n",
        "    err2 = 'Invalid operation. Available operations: add, sub, mul, div, pow.'\n",
        "    \n",
        "    if not isinstance(a, (int, float)) and\\\n",
        "       isinstance(b, (int, float)):\n",
        "        raise ValueError(err1)\n",
        "    elif arg not in operations:\n",
        "        raise ValueError(err2)\n",
        "    return operations[arg](a, b)\n",
        "\n",
        "print(calculator('mul', 6, -0.5))\n",
        "operations.keys()"
      ],
      "execution_count": null,
      "outputs": [
        {
          "output_type": "stream",
          "text": [
            "-3.0\n"
          ],
          "name": "stdout"
        },
        {
          "output_type": "execute_result",
          "data": {
            "text/plain": [
              "dict_keys(['add', 'sub', 'mul', 'div', 'pow'])"
            ]
          },
          "metadata": {
            "tags": []
          },
          "execution_count": 68
        }
      ]
    },
    {
      "cell_type": "markdown",
      "metadata": {
        "id": "4CjUvC7nEASj"
      },
      "source": [
        "## **t08_multiplier/multiplier.py**"
      ]
    },
    {
      "cell_type": "code",
      "metadata": {
        "colab": {
          "base_uri": "https://localhost:8080/"
        },
        "id": "nePT62kDF4KW",
        "outputId": "68956e58-9d18-467c-9dde-18e226939bad"
      },
      "source": [
        "import functools\n",
        "\n",
        "def multiplier(lst):\n",
        "    if not lst or not isinstance(lst, list) or\\\n",
        "       not all(isinstance(ele, (int, float)) for ele in lst):\n",
        "       raise ValueError('The given data is invalid.')\n",
        "    return functools.reduce(lambda a, b: a * b, lst)\n",
        "    \n",
        "if __name__== '__main__':\n",
        "    test_1= [2.72, 43, 4]\n",
        "    test_2= [22, 3.04, 26]\n",
        "    test_3= [23, 5, 3.36]\n",
        "    print(multiplier(test_1))\n",
        "    print('***')\n",
        "    print(multiplier(test_2))\n",
        "    print('***')\n",
        "    print(multiplier(test_3))\n",
        "    print('***')\n"
      ],
      "execution_count": null,
      "outputs": [
        {
          "output_type": "stream",
          "text": [
            "467.84000000000003\n",
            "***\n",
            "1738.8799999999999\n",
            "***\n",
            "386.4\n",
            "***\n"
          ],
          "name": "stdout"
        }
      ]
    },
    {
      "cell_type": "markdown",
      "metadata": {
        "id": "rL5JAYaqPnZG"
      },
      "source": [
        "# **t09_raise/raise_error.py**"
      ]
    },
    {
      "cell_type": "code",
      "metadata": {
        "colab": {
          "base_uri": "https://localhost:8080/"
        },
        "id": "hXRxSeHVF5o8",
        "outputId": "520d5732-22d6-4874-c832-999967de8a1e"
      },
      "source": [
        "def raise_error(err, msg):\n",
        "    e = {'value': lambda x: ValueError(x), \n",
        "         'key': lambda x: KeyError(x),\n",
        "         'index': lambda x: IndexError(x),\n",
        "         'memory': lambda x: MemoryError(x),\n",
        "         'name': lambda x: NameError(x),\n",
        "         'eof': lambda x: EOFError(x)}\n",
        "\n",
        "    if err in e:\n",
        "        raise e[err](msg)\n",
        "    raise ValueError('No error with such key.')\n",
        "\n",
        "if __name__== '__main__':\n",
        "    errors = ['value', 'key', 'index', 'memory', 'name', 'eof', 'wrong', '']\n",
        "    for error in errors:\n",
        "        message = f'This is a `{error}` error.'\n",
        "        try:\n",
        "            raise_error(error, message)\n",
        "        except Exception as e:\n",
        "            print(f'call with \"{error}\", \"{message}\":'\n",
        "                f'\\n\\tRaised error: {type(e)}'\n",
        "                f'\\n\\tMessage: {str(e)}\\n')\n"
      ],
      "execution_count": null,
      "outputs": [
        {
          "output_type": "stream",
          "text": [
            "call with \"value\", \"This is a `value` error.\":\n",
            "\tRaised error: <class 'ValueError'>\n",
            "\tMessage: This is a `value` error.\n",
            "\n",
            "call with \"key\", \"This is a `key` error.\":\n",
            "\tRaised error: <class 'KeyError'>\n",
            "\tMessage: 'This is a `key` error.'\n",
            "\n",
            "call with \"index\", \"This is a `index` error.\":\n",
            "\tRaised error: <class 'IndexError'>\n",
            "\tMessage: This is a `index` error.\n",
            "\n",
            "call with \"memory\", \"This is a `memory` error.\":\n",
            "\tRaised error: <class 'MemoryError'>\n",
            "\tMessage: This is a `memory` error.\n",
            "\n",
            "call with \"name\", \"This is a `name` error.\":\n",
            "\tRaised error: <class 'NameError'>\n",
            "\tMessage: This is a `name` error.\n",
            "\n",
            "call with \"eof\", \"This is a `eof` error.\":\n",
            "\tRaised error: <class 'EOFError'>\n",
            "\tMessage: This is a `eof` error.\n",
            "\n",
            "call with \"wrong\", \"This is a `wrong` error.\":\n",
            "\tRaised error: <class 'ValueError'>\n",
            "\tMessage: No error with such key.\n",
            "\n",
            "call with \"\", \"This is a `` error.\":\n",
            "\tRaised error: <class 'ValueError'>\n",
            "\tMessage: No error with such key.\n",
            "\n"
          ],
          "name": "stdout"
        }
      ]
    },
    {
      "cell_type": "markdown",
      "metadata": {
        "id": "dBw_oqWhXEn1"
      },
      "source": [
        "# **t10_group/group.py**"
      ]
    },
    {
      "cell_type": "code",
      "metadata": {
        "id": "N_-Y7hFuG9jD",
        "colab": {
          "base_uri": "https://localhost:8080/"
        },
        "outputId": "ddd0eaf1-585f-4485-96a5-3bd4ed90b0da"
      },
      "source": [
        "from itertools import groupby\n",
        "import operator\n",
        "\n",
        "import json\n",
        "\n",
        "def group(to_group, keys):\n",
        "    to_group = sorted(to_group, key=operator.itemgetter(*keys))\n",
        "    res = {}\n",
        "\n",
        "    for key in keys:\n",
        "        for i, g in groupby(to_group, key=operator.itemgetter(key)):\n",
        "            res[i] = list(g)\n",
        "        for x, v in res.items():\n",
        "            for el in v:\n",
        "                el.pop(key)\n",
        "    return res\n",
        "\n",
        "if __name__== '__main__':\n",
        "    test_case_data = [{'name': 'Alex','gender': 'male','species': 'human','job': 'bicycle repair man',},\\\n",
        "                      {'name': 'Monika','gender': 'female','species': 'human','job': 'stockbroker'},\\\n",
        "                      {'name': 'Bob','gender': 'male','species': 'human','job': 'quantity surveyor'},\\\n",
        "                      {'name': 'Veronika','gender': 'female','species': 'human','job': 'church warden'},\\\n",
        "                      {'name': 'George','gender': 'male','species': 'human','job': 'bicycle repair man'},]\n",
        "    test_case_data_group_fields_1 = ['gender']\n",
        "    test_case_data_group_fields_2 = ['species', 'gender', 'job']\n",
        "    res_1 = group(test_case_data, test_case_data_group_fields_1)\n",
        "    # res_2= group(test_case_data, test_case_data_group_fields_2)\n",
        "    print(json.dumps(res_1, indent=2))\n",
        "    print()\n",
        "    # print(json.dumps(res_2, indent=2))\n"
      ],
      "execution_count": 88,
      "outputs": [
        {
          "output_type": "stream",
          "text": [
            "{\n",
            "  \"female\": [\n",
            "    {\n",
            "      \"name\": \"Monika\",\n",
            "      \"species\": \"human\",\n",
            "      \"job\": \"stockbroker\"\n",
            "    },\n",
            "    {\n",
            "      \"name\": \"Veronika\",\n",
            "      \"species\": \"human\",\n",
            "      \"job\": \"church warden\"\n",
            "    }\n",
            "  ],\n",
            "  \"male\": [\n",
            "    {\n",
            "      \"name\": \"Alex\",\n",
            "      \"species\": \"human\",\n",
            "      \"job\": \"bicycle repair man\"\n",
            "    },\n",
            "    {\n",
            "      \"name\": \"Bob\",\n",
            "      \"species\": \"human\",\n",
            "      \"job\": \"quantity surveyor\"\n",
            "    },\n",
            "    {\n",
            "      \"name\": \"George\",\n",
            "      \"species\": \"human\",\n",
            "      \"job\": \"bicycle repair man\"\n",
            "    }\n",
            "  ]\n",
            "}\n",
            "\n"
          ],
          "name": "stdout"
        }
      ]
    },
    {
      "cell_type": "markdown",
      "metadata": {
        "id": "x0OqrYv9CQ7M"
      },
      "source": [
        "## **CORRECT by skot**"
      ]
    },
    {
      "cell_type": "code",
      "metadata": {
        "id": "96CRadwjwY-7",
        "colab": {
          "base_uri": "https://localhost:8080/"
        },
        "outputId": "15ad8496-4ac2-4024-ed08-277a3c88e6d0"
      },
      "source": [
        "import itertools as it\n",
        "import copy\n",
        "\n",
        "\n",
        "def group(input_dict, list_keys):\n",
        "    dict_to_group = copy.deepcopy(input_dict)\n",
        "    result_dict = dict()\n",
        "    temp_dict = dict()\n",
        "    dict_to_group = sorted(dict_to_group, key=lambda x: x[list_keys[0]])\n",
        "    for key, gr in it.groupby(dict_to_group, lambda x: x.pop(list_keys[0], None)):\n",
        "        if key:\n",
        "            new_key = list(gr)\n",
        "            if len(list_keys) > 1:\n",
        "                temp_dict = {**temp_dict, key: group(new_key, list_keys[1:])}\n",
        "            else:\n",
        "                temp_dict = {**temp_dict, key: new_key}\n",
        "    result_dict = {**result_dict, **temp_dict}\n",
        "    return result_dict\n",
        "\n",
        "if __name__== '__main__':\n",
        "    test_case_data = [{'name': 'Alex','gender': 'male','species': 'human','job': 'bicycle repair man',},\\\n",
        "                      {'name': 'Monika','gender': 'female','species': 'human','job': 'stockbroker'},\\\n",
        "                      {'name': 'Bob','gender': 'male','species': 'human','job': 'quantity surveyor'},\\\n",
        "                      {'name': 'Veronika','gender': 'female','species': 'human','job': 'church warden'},\\\n",
        "                      {'name': 'George','gender': 'male','species': 'human','job': 'bicycle repair man'},]\n",
        "    test_case_data_group_fields_1 = ['gender']\n",
        "    test_case_data_group_fields_2 = ['species', 'gender', 'job']\n",
        "    res_1 = group(test_case_data, test_case_data_group_fields_1)\n",
        "    res_2= group(test_case_data, test_case_data_group_fields_2)\n",
        "    print(json.dumps(res_1, indent=2))\n",
        "    print()\n",
        "    print(json.dumps(res_2, indent=2))\n"
      ],
      "execution_count": 87,
      "outputs": [
        {
          "output_type": "stream",
          "text": [
            "{\n",
            "  \"female\": [\n",
            "    {\n",
            "      \"name\": \"Monika\",\n",
            "      \"species\": \"human\",\n",
            "      \"job\": \"stockbroker\"\n",
            "    },\n",
            "    {\n",
            "      \"name\": \"Veronika\",\n",
            "      \"species\": \"human\",\n",
            "      \"job\": \"church warden\"\n",
            "    }\n",
            "  ],\n",
            "  \"male\": [\n",
            "    {\n",
            "      \"name\": \"Alex\",\n",
            "      \"species\": \"human\",\n",
            "      \"job\": \"bicycle repair man\"\n",
            "    },\n",
            "    {\n",
            "      \"name\": \"Bob\",\n",
            "      \"species\": \"human\",\n",
            "      \"job\": \"quantity surveyor\"\n",
            "    },\n",
            "    {\n",
            "      \"name\": \"George\",\n",
            "      \"species\": \"human\",\n",
            "      \"job\": \"bicycle repair man\"\n",
            "    }\n",
            "  ]\n",
            "}\n",
            "\n",
            "{\n",
            "  \"human\": {\n",
            "    \"female\": {\n",
            "      \"church warden\": [\n",
            "        {\n",
            "          \"name\": \"Veronika\"\n",
            "        }\n",
            "      ],\n",
            "      \"stockbroker\": [\n",
            "        {\n",
            "          \"name\": \"Monika\"\n",
            "        }\n",
            "      ]\n",
            "    },\n",
            "    \"male\": {\n",
            "      \"bicycle repair man\": [\n",
            "        {\n",
            "          \"name\": \"Alex\"\n",
            "        },\n",
            "        {\n",
            "          \"name\": \"George\"\n",
            "        }\n",
            "      ],\n",
            "      \"quantity surveyor\": [\n",
            "        {\n",
            "          \"name\": \"Bob\"\n",
            "        }\n",
            "      ]\n",
            "    }\n",
            "  }\n",
            "}\n"
          ],
          "name": "stdout"
        }
      ]
    },
    {
      "cell_type": "code",
      "metadata": {
        "id": "zUTnO8pD9_Q5"
      },
      "source": [
        ""
      ],
      "execution_count": null,
      "outputs": []
    }
  ]
}